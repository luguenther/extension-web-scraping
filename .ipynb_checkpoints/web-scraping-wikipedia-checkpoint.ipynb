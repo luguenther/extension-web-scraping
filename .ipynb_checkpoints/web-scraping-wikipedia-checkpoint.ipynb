{
 "cells": [
  {
   "cell_type": "code",
   "execution_count": 3,
   "id": "36cb5be9-f06d-48cc-9b1b-8d44b9286ffc",
   "metadata": {},
   "outputs": [
    {
     "name": "stdout",
     "output_type": "stream",
     "text": [
      "Wikipedia scraping complete! Data saved as wikipedia_books.csv\n"
     ]
    }
   ],
   "source": [
    "import requests\n",
    "from bs4 import BeautifulSoup\n",
    "import pandas as pd\n",
    "\n",
    "# URL of Wikipedia's List of Best-Selling Books page\n",
    "WIKI_URL = \"https://en.wikipedia.org/wiki/List_of_best-selling_books\"\n",
    "\n",
    "# Send request and parse the page\n",
    "response = requests.get(WIKI_URL)\n",
    "soup = BeautifulSoup(response.text, \"html.parser\")\n",
    "\n",
    "# Find all tables containing book data\n",
    "tables = soup.find_all(\"table\", class_=\"wikitable\")\n",
    "\n",
    "# Lists to store data\n",
    "titles = []\n",
    "authors = []\n",
    "original_languages = []\n",
    "years = []\n",
    "approx_sales = []\n",
    "genres = []\n",
    "\n",
    "# Extract data from all tables\n",
    "for table in tables:\n",
    "    for row in table.find_all(\"tr\")[1:]:  # Skip header row\n",
    "        columns = row.find_all(\"td\")\n",
    "        if len(columns) >= 6:\n",
    "            title = columns[0].text.strip().replace(\"[\", \"\").replace(\"]\", \"\")  # Remove citation brackets\n",
    "            author = columns[1].text.strip()\n",
    "            original_language = columns[2].text.strip()\n",
    "            year = columns[3].text.strip()\n",
    "            sales = columns[4].text.strip()\n",
    "            genre = columns[5].text.strip()\n",
    "            \n",
    "            titles.append(title)\n",
    "            authors.append(author)\n",
    "            original_languages.append(original_language)\n",
    "            years.append(year)\n",
    "            approx_sales.append(sales)\n",
    "            genres.append(genre)\n",
    "\n",
    "# Create a DataFrame\n",
    "df_wiki = pd.DataFrame({\n",
    "    \"Title\": titles,\n",
    "    \"Author\": authors,\n",
    "    \"Original Language\": original_languages,\n",
    "    \"First Published\": years,\n",
    "    \"Approximate Sales\": approx_sales,\n",
    "    \"Genre\": genres\n",
    "})\n",
    "\n",
    "# Save the data\n",
    "df_wiki.to_csv(\"wikipedia_books.csv\", index=False)\n",
    "\n",
    "print(\"Wikipedia scraping complete! Data saved as wikipedia_books.csv\")"
   ]
  },
  {
   "cell_type": "code",
   "execution_count": null,
   "id": "645ff542-906e-498d-87ef-802d8a5b528b",
   "metadata": {},
   "outputs": [],
   "source": []
  }
 ],
 "metadata": {
  "kernelspec": {
   "display_name": "Python 3 (ipykernel)",
   "language": "python",
   "name": "python3"
  },
  "language_info": {
   "codemirror_mode": {
    "name": "ipython",
    "version": 3
   },
   "file_extension": ".py",
   "mimetype": "text/x-python",
   "name": "python",
   "nbconvert_exporter": "python",
   "pygments_lexer": "ipython3",
   "version": "3.12.2"
  }
 },
 "nbformat": 4,
 "nbformat_minor": 5
}
