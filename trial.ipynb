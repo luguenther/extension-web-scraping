{
 "cells": [
  {
   "cell_type": "code",
   "execution_count": 16,
   "id": "2e82585e-e307-4319-833b-8f7900c2cdfc",
   "metadata": {},
   "outputs": [],
   "source": [
    "import requests\n",
    "from bs4 import BeautifulSoup\n",
    "import pandas as pd\n",
    "import time\n"
   ]
  },
  {
   "cell_type": "code",
   "execution_count": 17,
   "id": "a7a5a1d8-327a-4cfb-be79-ead3838b2990",
   "metadata": {},
   "outputs": [],
   "source": [
    "# def greatest_books(limit = 500):\n",
    "    # base_url = \"https://thegreatestbooks.org/v/table/lists/381#google_vignette\"\n",
    "    # books = []\n",
    "    # page = 1\n",
    "    \n",
    "    # while len(books) < limit:\n",
    "        # requests.get(base_url.format(page))\n",
    "        # if response.status_code == 200:\n",
    "            # break\n",
    "                     \n",
    "        # soup = BeautifulSoup(response.text, \"html.parser\")\n",
    "        # book_list = soup.find_all(\"/html/body/div[1]/div/div[4]/div/table\")\n",
    "                             "
   ]
  },
  {
   "cell_type": "code",
   "execution_count": 18,
   "id": "25fa38fa-21c6-4cc0-bb3a-e4ba2e8293ec",
   "metadata": {},
   "outputs": [],
   "source": [
    "link = \"https://thegreatestbooks.org/v/table/lists/381#google_vignette\""
   ]
  },
  {
   "cell_type": "code",
   "execution_count": 19,
   "id": "083b0790-d567-43dd-9cfa-abb521af9093",
   "metadata": {},
   "outputs": [
    {
     "data": {
      "text/plain": [
       "403"
      ]
     },
     "execution_count": 19,
     "metadata": {},
     "output_type": "execute_result"
    }
   ],
   "source": [
    "response = requests.get(link)\n",
    "response.status_code # 200 status code means OK!"
   ]
  },
  {
   "cell_type": "code",
   "execution_count": null,
   "id": "79911c01-a049-46f2-bf92-3a9aea323fa3",
   "metadata": {},
   "outputs": [],
   "source": []
  }
 ],
 "metadata": {
  "kernelspec": {
   "display_name": "Python 3 (ipykernel)",
   "language": "python",
   "name": "python3"
  },
  "language_info": {
   "codemirror_mode": {
    "name": "ipython",
    "version": 3
   },
   "file_extension": ".py",
   "mimetype": "text/x-python",
   "name": "python",
   "nbconvert_exporter": "python",
   "pygments_lexer": "ipython3",
   "version": "3.12.2"
  }
 },
 "nbformat": 4,
 "nbformat_minor": 5
}
