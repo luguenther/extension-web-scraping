{
 "cells": [
  {
   "cell_type": "code",
   "execution_count": 1,
   "id": "37774bda-cc7b-4d80-bed8-0744947dda85",
   "metadata": {},
   "outputs": [
    {
     "name": "stdout",
     "output_type": "stream",
     "text": [
      "Scraping complete! Data saved as books_data.csv\n"
     ]
    }
   ],
   "source": [
    "import requests\n",
    "from bs4 import BeautifulSoup\n",
    "import pandas as pd\n",
    "\n",
    "# URL of the website\n",
    "BASE_URL = \"http://books.toscrape.com/catalogue/page-{}.html\"\n",
    "\n",
    "# Lists to store data\n",
    "titles = []\n",
    "authors = []\n",
    "prices = []\n",
    "availability = []\n",
    "ratings = []\n",
    "\n",
    "# Dictionary to convert star ratings to numbers\n",
    "rating_map = {\"One\": 1, \"Two\": 2, \"Three\": 3, \"Four\": 4, \"Five\": 5}\n",
    "\n",
    "# Loop through multiple pages (first 5 pages as an example)\n",
    "for page in range(1, 6):\n",
    "    url = BASE_URL.format(page)\n",
    "    response = requests.get(url)\n",
    "    soup = BeautifulSoup(response.text, \"html.parser\")\n",
    "    \n",
    "    # Find all book containers\n",
    "    books = soup.find_all(\"article\", class_=\"product_pod\")\n",
    "    \n",
    "    for book in books:\n",
    "        # Get title\n",
    "        title = book.h3.a[\"title\"]\n",
    "        titles.append(title)\n",
    "        \n",
    "        # Get author (Assuming author is inside product description, adjust if needed)\n",
    "        book_url = \"http://books.toscrape.com/catalogue/\" + book.h3.a[\"href\"]\n",
    "        book_response = requests.get(book_url)\n",
    "        book_soup = BeautifulSoup(book_response.text, \"html.parser\")\n",
    "        author = book_soup.find(\"table\", class_=\"table table-striped\").find_all(\"tr\")[1].td.text.strip()\n",
    "        authors.append(author)\n",
    "        \n",
    "        # Get price\n",
    "        price = book.find(\"p\", class_=\"price_color\").text.strip()\n",
    "        prices.append(price)\n",
    "        \n",
    "        # Get availability\n",
    "        stock = book.find(\"p\", class_=\"instock availability\").text.strip()\n",
    "        availability.append(stock)\n",
    "        \n",
    "        # Get rating\n",
    "        rating_class = book.p[\"class\"][1]  # Example: \"star-rating Three\"\n",
    "        ratings.append(rating_map.get(rating_class, 0))\n",
    "\n",
    "# Create a DataFrame\n",
    "df = pd.DataFrame({\n",
    "    \"Title\": titles,\n",
    "    \"Author\": authors,\n",
    "    \"Price\": prices,\n",
    "    \"Availability\": availability,\n",
    "    \"Rating\": ratings\n",
    "})\n",
    "\n",
    "# Save the data\n",
    "df.to_csv(\"books_data.csv\", index=False)\n",
    "\n",
    "print(\"Scraping complete! Data saved as books_data.csv\")\n"
   ]
  },
  {
   "cell_type": "code",
   "execution_count": null,
   "id": "25c170cf-2692-4238-9614-e858c3418f61",
   "metadata": {},
   "outputs": [],
   "source": []
  }
 ],
 "metadata": {
  "kernelspec": {
   "display_name": "Python 3 (ipykernel)",
   "language": "python",
   "name": "python3"
  },
  "language_info": {
   "codemirror_mode": {
    "name": "ipython",
    "version": 3
   },
   "file_extension": ".py",
   "mimetype": "text/x-python",
   "name": "python",
   "nbconvert_exporter": "python",
   "pygments_lexer": "ipython3",
   "version": "3.12.2"
  }
 },
 "nbformat": 4,
 "nbformat_minor": 5
}
